{
  "nbformat": 4,
  "nbformat_minor": 0,
  "metadata": {
    "colab": {
      "name": "Practica1.ipynb",
      "provenance": [],
      "authorship_tag": "ABX9TyMVH5awbWPHmInDngsVR2pD",
      "include_colab_link": true
    },
    "kernelspec": {
      "name": "python3",
      "display_name": "Python 3"
    },
    "language_info": {
      "name": "python"
    }
  },
  "cells": [
    {
      "cell_type": "markdown",
      "metadata": {
        "id": "view-in-github",
        "colab_type": "text"
      },
      "source": [
        "<a href=\"https://colab.research.google.com/github/H31inZuM/DATOS-DE-IA/blob/main/Practica1.ipynb\" target=\"_parent\"><img src=\"https://colab.research.google.com/assets/colab-badge.svg\" alt=\"Open In Colab\"/></a>"
      ]
    },
    {
      "cell_type": "code",
      "execution_count": 356,
      "metadata": {
        "id": "oNOXTo_eJmFK",
        "colab": {
          "base_uri": "https://localhost:8080/"
        },
        "outputId": "dd489785-1b4d-4a50-9c5c-d9ac05aee4d3"
      },
      "outputs": [
        {
          "output_type": "execute_result",
          "data": {
            "text/plain": [
              "('oecd_bli_2018.csv', <http.client.HTTPMessage at 0x7f2e58cbf5d0>)"
            ]
          },
          "metadata": {},
          "execution_count": 356
        }
      ],
      "source": [
        "#importe de archivo desde internet\n",
        "import urllib.request\n",
        "urllib.request.urlretrieve(\"https://raw.githubusercontent.com/H31inZuM/DATOS-DE-IA/main/oecd_bli_2018.csv\", \"oecd_bli_2018.csv\")"
      ]
    },
    {
      "cell_type": "code",
      "source": [
        "#importando librerias\n",
        "import matplotlib.pyplot as plt\n",
        "import numpy as np\n",
        "import pandas as pd\n",
        "import sklearn.linear_model"
      ],
      "metadata": {
        "id": "vHhpgcphTKE_"
      },
      "execution_count": 357,
      "outputs": []
    },
    {
      "cell_type": "code",
      "source": [
        "# Cargando la data data\n",
        "oecd_bli = pd.read_csv(\"oecd_bli_2018.csv\", thousands=',')\n",
        "\n",
        "#funcion para preparar formato de archivo\n",
        "def formato_datos(oecd_bli):\n",
        "    ''' Acomoda los datos para preparar el conjunto de entrenamiento  '''\n",
        "    oecd_bli = oecd_bli[oecd_bli[\"INEQUALITY\"]==\"TOT\"]\n",
        "    oecd_bli = oecd_bli.pivot(index=\"Country\", columns=\"Indicator\", values=\"Value\")\n",
        "    oecd_bli.sort_values(by=\"Air pollution\", inplace=True)\n",
        "    return oecd_bli[[\"Air pollution\", \"Life satisfaction\"]]\n",
        "\n",
        "country_stats = formato_datos(oecd_bli)\n",
        "def graficar (country_stats):\n",
        "  # Preparando los datos\n",
        "  X = np.c_[country_stats[\"Air pollution\"]]\n",
        "  y = np.c_[country_stats[\"Life satisfaction\"]]\n",
        "  # Visualizando la data\n",
        "  country_stats.plot(kind='scatter', x=\"Air pollution\", y='Life satisfaction')\n",
        "  plt.show()\n",
        "graficar(country_stats)\n"
      ],
      "metadata": {
        "id": "1nEp97FSNM2z",
        "colab": {
          "base_uri": "https://localhost:8080/",
          "height": 280
        },
        "outputId": "6f416678-ebf2-4eb5-a801-1a215daeb1b9"
      },
      "execution_count": 358,
      "outputs": [
        {
          "output_type": "display_data",
          "data": {
            "image/png": "[encoded data removed]",
            "text/plain": [
              "<Figure size 432x288 with 1 Axes>"
            ]
          },
          "metadata": {
            "needs_background": "light"
          }
        }
      ]
    },
    {
      "cell_type": "code",
      "source": [
        "#optimizando\n",
        "def forma_optimizado(oecd_bli):\n",
        "    oecd_bli = oecd_bli[oecd_bli[\"INEQUALITY\"]==\"TOT\"]\n",
        "    oecd_bli = oecd_bli.pivot(index=\"Country\", columns=\"Indicator\", values=\"Value\")\n",
        "    oecd_bli.sort_values(by=\"Air pollution\", inplace=True)\n",
        "    remove_indices = [0,1,2, 10, 19, 33]\n",
        "    keep_indices = list(set(range(41)) - set(remove_indices))\n",
        "    return oecd_bli[[\"Air pollution\", \"Life satisfaction\"]].iloc[keep_indices]\n",
        "\n",
        "country_stats = forma_optimizado(oecd_bli)\n",
        "graficar(country_stats)\n"
      ],
      "metadata": {
        "colab": {
          "base_uri": "https://localhost:8080/",
          "height": 279
        },
        "id": "wvtPxPkPpGyG",
        "outputId": "c40a924a-f59a-46fb-9360-14a4a7de5ae8"
      },
      "execution_count": 359,
      "outputs": [
        {
          "output_type": "display_data",
          "data": {
            "image/png": "[encoded data removed]",
            "text/plain": [
              "<Figure size 432x288 with 1 Axes>"
            ]
          },
          "metadata": {
            "needs_background": "light"
          }
        }
      ]
    },
    {
      "cell_type": "code",
      "source": [
        "X = np.c_[country_stats[\"Air pollution\"]]\n",
        "y = np.c_[country_stats[\"Life satisfaction\"]]\n",
        "\n",
        "# Seleccionar un modelo lineal\n",
        "model = sklearn.linear_model.LinearRegression()\n",
        "# Entrenando el modelo\n",
        "model.fit(X, y)\n",
        "\n",
        "#Datos para medida de precicion\n",
        "#Prediccion para finlandia (datos de tabla, pollution:5.5 y Ls: 7.9)\n",
        "X_new = [[5.5]]  # Pollution \n",
        "print(model.predict(X_new)) # salida esperado de indice de LS (7.9)\n",
        "\n",
        "#Prediccion para Suecia (datos de tabla, pollution:5.8 y Ls: 7.3)\n",
        "X_new = [[5.8]]  # Pollution \n",
        "print(model.predict(X_new)) # salida esperado de indice de LS (7.3)\n"
      ],
      "metadata": {
        "colab": {
          "base_uri": "https://localhost:8080/"
        },
        "id": "-c1xDOuOpChZ",
        "outputId": "3ca462a2-7bfa-483b-ba17-0dac72c408ac"
      },
      "execution_count": 360,
      "outputs": [
        {
          "output_type": "stream",
          "name": "stdout",
          "text": [
            "[[7.36531411]]\n",
            "[[7.33840883]]\n"
          ]
        }
      ]
    },
    {
      "cell_type": "markdown",
      "source": [
        "Usando algoritmo de k-nearest neigbors"
      ],
      "metadata": {
        "id": "6bqjmotZvEEj"
      }
    },
    {
      "cell_type": "code",
      "source": [
        "# Select a 3-Nearest Neighbors regression model\n",
        "import sklearn.neighbors\n",
        "model1 = sklearn.neighbors.KNeighborsRegressor(n_neighbors=4)\n",
        "# Entrenando el modelo\n",
        "model1.fit(X,y)\n",
        "#Datos para medida de precicion\n",
        "#Prediccion para finlandia (datos de tabla, pollution:5.5 y Ls: 7.9)\n",
        "X_new = [[5.5]]  # Pollution \n",
        "print(model1.predict(X_new)) # salida esperado de indice de LS (7.9)\n",
        "\n",
        "#Prediccion para Suecia (datos de tabla, pollution:5.8 y Ls: 7.3)\n",
        "X_new = [[5.8]]  # Pollution \n",
        "print(model1.predict(X_new)) # salida esperado de indice de LS (7.3)"
      ],
      "metadata": {
        "colab": {
          "base_uri": "https://localhost:8080/"
        },
        "id": "iOm8KMlCvNPQ",
        "outputId": "a07abf74-72da-4b57-e95d-ce77662abc08"
      },
      "execution_count": 361,
      "outputs": [
        {
          "output_type": "stream",
          "name": "stdout",
          "text": [
            "[[7.325]]\n",
            "[[7.325]]\n"
          ]
        }
      ]
    },
    {
      "cell_type": "markdown",
      "source": [
        "***Se concluye de que, para que el modelo sea representativo y pueda servir para predicir se requiere eliminar los datos sesgados, con estas condiciones si logra tener una precision aceptable, tambien se observo de que tiene una mejor precision con el algoritmo de regresion lineal.***"
      ],
      "metadata": {
        "id": "G7xUNysm2jb9"
      }
    },
    {
      "cell_type": "code",
      "source": [
        ""
      ],
      "metadata": {
        "id": "MUR5048axLlx"
      },
      "execution_count": 361,
      "outputs": []
    }
  ]
}